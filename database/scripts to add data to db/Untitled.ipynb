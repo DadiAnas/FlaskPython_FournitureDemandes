{
 "cells": [
  {
   "cell_type": "code",
   "execution_count": 1,
   "metadata": {},
   "outputs": [],
   "source": [
    "import pandas as pd\n",
    "import mysql.connector as mysql\n",
    "\n",
    "\n",
    "data = pd.read_csv('products.csv')\n",
    "\n",
    "def db():\n",
    "    host = \"localhost\"\n",
    "    user = \"root\"\n",
    "    password = \"\"#settings.MYSQL_DATABASE_PASSWORD\n",
    "    database = 'Gdemandes'\n",
    "\n",
    "    config = {\n",
    "        'user': user,\n",
    "        'password': password,\n",
    "        'host': host,\n",
    "        'database': database,\n",
    "        'raise_on_warnings': True\n",
    "    }\n",
    "\n",
    "    return  mysql.connect(**config)\n",
    "db = db()\n",
    "cursor = db.cursor()\n",
    "\n",
    "\n",
    "for i in range(1,len(data)):\n",
    "    cursor.execute(\"INSERT INTO produits (produit_id, produit_designation, produit_serial, produit_picture, produit_description, produit_stock_qte, fournisseur_id) VALUES(%s, %s, %s, %s, %s, %s, %s);\",(str(data.id_p.iloc[i]),str(data.designation.iloc[i]),str(data.product_serial.iloc[i]),\"/static/styles/images/products/\"+str(data.product_serial.iloc[i]),str(data.product_description.iloc[i]),str(data.stock.iloc[i]),str(data.f_id.iloc[i])))\n",
    "db.commit()    \n",
    "db.close()"
   ]
  },
  {
   "cell_type": "code",
   "execution_count": null,
   "metadata": {},
   "outputs": [],
   "source": []
  }
 ],
 "metadata": {
  "kernelspec": {
   "display_name": "Python 3",
   "language": "python",
   "name": "python3"
  },
  "language_info": {
   "codemirror_mode": {
    "name": "ipython",
    "version": 3
   },
   "file_extension": ".py",
   "mimetype": "text/x-python",
   "name": "python",
   "nbconvert_exporter": "python",
   "pygments_lexer": "ipython3",
   "version": "3.7.3"
  }
 },
 "nbformat": 4,
 "nbformat_minor": 2
}
